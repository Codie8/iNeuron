{
 "cells": [
  {
   "cell_type": "markdown",
   "metadata": {},
   "source": [
    "#### 1.1 Write a Python Program(with class concepts) to find the area of the triangle using the below formula.\n",
    "area = (s*(s-a)*(s-b)*(s-c)) ** 0.5\n",
    "#### Function to take the length of the sides of triangle from user should be defined in the parent class and function to calculate the area should be defined in subclass."
   ]
  },
  {
   "cell_type": "code",
   "execution_count": 23,
   "metadata": {},
   "outputs": [
    {
     "name": "stdout",
     "output_type": "stream",
     "text": [
      "15.0\n"
     ]
    }
   ],
   "source": [
    "class area:\n",
    "    def __init__(self,a,b,c,s):\n",
    "        self.a = a\n",
    "        self.b = b\n",
    "        self.c = c\n",
    "        self.s = s\n",
    "class result(area):\n",
    "    def __init__(self,a,b,c,s):\n",
    "        super().__init__(a,b,c,s)\n",
    "    def triangle(self):\n",
    "        ans = (self.s*(self.s-self.a)*(self.s-self.b)* (self.s-self.c)*0.5)\n",
    "        print(ans)\n",
    "obj = result(2,3,4,5)\n",
    "obj.triangle()"
   ]
  },
  {
   "cell_type": "markdown",
   "metadata": {},
   "source": [
    "#### 2) Write a function filter_long_words() that takes a list of words and an integer n and returns the list of words that are longer than n."
   ]
  },
  {
   "cell_type": "code",
   "execution_count": 26,
   "metadata": {},
   "outputs": [
    {
     "data": {
      "text/plain": [
       "['Cities', 'Valuable', 'Testing']"
      ]
     },
     "execution_count": 26,
     "metadata": {},
     "output_type": "execute_result"
    }
   ],
   "source": [
    "def filter_long_words(lst,n):\n",
    "    res = []\n",
    "    for i in lst:\n",
    "        if len(i)>n:\n",
    "            res.append(i)\n",
    "    return res\n",
    "\n",
    "lst = [\"Name\",\"Cities\",\"Valuable\",\"Testing\",\"US\",\"Demo\"]\n",
    "filter_long_words(lst,4)"
   ]
  },
  {
   "cell_type": "markdown",
   "metadata": {},
   "source": [
    "#### 3) Write a Python program using function concept that maps list of words into a list of integers representing the lengths of the corresponding words.\n",
    "\n",
    "Hint: If a list [ ab,cde,erty] is passed on to the python function output should come as [2,3,4]\n",
    "Here 2,3 and 4 are the lengths of the words in the list."
   ]
  },
  {
   "cell_type": "code",
   "execution_count": 29,
   "metadata": {},
   "outputs": [
    {
     "data": {
      "text/plain": [
       "[4, 6, 8, 7, 2, 4]"
      ]
     },
     "execution_count": 29,
     "metadata": {},
     "output_type": "execute_result"
    }
   ],
   "source": [
    "def convert(lst):\n",
    "    res = []\n",
    "    for i in lst:\n",
    "        res.append(len(i))\n",
    "    return res\n",
    "\n",
    "lst = [\"Name\",\"Cities\",\"Valuable\",\"Testing\",\"US\",\"Demo\"]\n",
    "convert(lst)\n"
   ]
  },
  {
   "cell_type": "markdown",
   "metadata": {},
   "source": [
    "#### 4) Write a Python function which takes a character (i.e. a string of length 1) and returns True if it is a vowel, False otherwise."
   ]
  },
  {
   "cell_type": "code",
   "execution_count": 36,
   "metadata": {},
   "outputs": [
    {
     "data": {
      "text/plain": [
       "True"
      ]
     },
     "execution_count": 36,
     "metadata": {},
     "output_type": "execute_result"
    }
   ],
   "source": [
    "def vowelFinder(ch):\n",
    "    if len(ch) == 1:\n",
    "        if ch == \"a\" or ch == \"i\" or ch == \"o\" or ch==\"u\" or ch==\"e\" or ch == \"A\" or ch == \"I\" or ch == \"O\" or ch==\"U\" or ch==\"E\":\n",
    "            return True\n",
    "        else: \n",
    "            return False\n",
    "    else:\n",
    "        print(\"Please enter character of lentgh 1\")\n",
    "    \n",
    "vowelFinder('i')"
   ]
  }
 ],
 "metadata": {
  "kernelspec": {
   "display_name": "Python 3",
   "language": "python",
   "name": "python3"
  },
  "language_info": {
   "codemirror_mode": {
    "name": "ipython",
    "version": 3
   },
   "file_extension": ".py",
   "mimetype": "text/x-python",
   "name": "python",
   "nbconvert_exporter": "python",
   "pygments_lexer": "ipython3",
   "version": "3.8.5"
  }
 },
 "nbformat": 4,
 "nbformat_minor": 4
}
